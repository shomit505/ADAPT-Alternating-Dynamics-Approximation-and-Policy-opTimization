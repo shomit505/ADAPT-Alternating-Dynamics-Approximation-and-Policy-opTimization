{
  "cells": [
    {
      "cell_type": "code",
      "execution_count": null,
      "metadata": {
        "id": "_98NqBuQDtyu",
        "colab": {
          "base_uri": "https://localhost:8080/"
        },
        "outputId": "b0e29716-bb67-4d41-8f45-767c9d94d8e6"
      },
      "outputs": [
        {
          "output_type": "stream",
          "name": "stdout",
          "text": [
            "Requirement already satisfied: gymnasium in /usr/local/lib/python3.10/dist-packages (0.29.1)\n",
            "Requirement already satisfied: numpy>=1.21.0 in /usr/local/lib/python3.10/dist-packages (from gymnasium) (1.26.4)\n",
            "Requirement already satisfied: cloudpickle>=1.2.0 in /usr/local/lib/python3.10/dist-packages (from gymnasium) (2.2.1)\n",
            "Requirement already satisfied: typing-extensions>=4.3.0 in /usr/local/lib/python3.10/dist-packages (from gymnasium) (4.12.2)\n",
            "Requirement already satisfied: farama-notifications>=0.0.1 in /usr/local/lib/python3.10/dist-packages (from gymnasium) (0.0.4)\n"
          ]
        }
      ],
      "source": [
        "!pip install gymnasium"
      ]
    },
    {
      "cell_type": "code",
      "execution_count": null,
      "metadata": {
        "id": "d1EcOHnJWY4q",
        "colab": {
          "base_uri": "https://localhost:8080/"
        },
        "outputId": "acae6007-5532-42ae-c191-3f3f3227040b"
      },
      "outputs": [
        {
          "output_type": "stream",
          "name": "stderr",
          "text": [
            "/usr/local/lib/python3.10/dist-packages/gymnasium/envs/registration.py:694: UserWarning: \u001b[33mWARN: Overriding environment RiverSwim-v0 already in registry.\u001b[0m\n",
            "  logger.warn(f\"Overriding environment {new_spec.id} already in registry.\")\n"
          ]
        }
      ],
      "source": [
        "import numpy as np\n",
        "import gymnasium as gym\n",
        "from gymnasium import spaces\n",
        "\n",
        "class RiverSwimEnv(gym.Env):\n",
        "    def __init__(self, nS=6):\n",
        "        super(RiverSwimEnv, self).__init__()\n",
        "        self.nS = nS\n",
        "        self.nA = 2  # LEFT = 0, RIGHT = 1\n",
        "        self.state = 0\n",
        "        self.steps_taken = 0\n",
        "        self.max_steps = 20\n",
        "\n",
        "        self.action_space = spaces.Discrete(self.nA)\n",
        "        self.observation_space = spaces.Discrete(self.nS)\n",
        "\n",
        "        # Define transition probabilities and rewards\n",
        "        self.P = self._init_dynamics()\n",
        "\n",
        "    def _init_dynamics(self):\n",
        "        P = {}\n",
        "        for s in range(self.nS):\n",
        "            P[s] = {a: [] for a in range(self.nA)}\n",
        "\n",
        "        # LEFT transitions\n",
        "        for s in range(self.nS):\n",
        "            P[s][0] = [(1.0, max(0, s-1), 5/1000 if s == 0 else 0, False)]\n",
        "\n",
        "        # RIGHT transitions\n",
        "        P[0][1] = [(0.3, 0, 0, False), (0.7, 1, 0, False)]\n",
        "        for s in range(1, self.nS - 1):\n",
        "            P[s][1] = [\n",
        "                (0.1, max(0, s-1), 0, False),\n",
        "                (0.6, s, 0, False),\n",
        "                (0.3, min(self.nS-1, s+1), 0, False)\n",
        "            ]\n",
        "        P[self.nS-1][1] = [(0.7, self.nS-1, 1, False), (0.3, self.nS-2, 0, False)]\n",
        "\n",
        "        return P\n",
        "\n",
        "    def reset(self, seed=None, options=None):\n",
        "        super().reset(seed=seed)\n",
        "        self.state = 0\n",
        "        self.steps_taken = 0\n",
        "        return self.state, {}\n",
        "\n",
        "    def step(self, action):\n",
        "        transitions = self.P[self.state][action]\n",
        "        i = self.np_random.choice(len(transitions), p=[t[0] for t in transitions])\n",
        "        p, next_state, reward, _ = transitions[i]\n",
        "        self.state = next_state\n",
        "        self.steps_taken += 1\n",
        "\n",
        "        # Check if max steps reached\n",
        "        done = self.steps_taken >= self.max_steps\n",
        "\n",
        "        return next_state, reward, done, False, {}\n",
        "\n",
        "    def render(self):\n",
        "        print(f\"Current state: {self.state}\")\n",
        "\n",
        "# Register the environment\n",
        "gym.register(\n",
        "    id='RiverSwim-v0',\n",
        "    entry_point='__main__:RiverSwimEnv',\n",
        "    max_episode_steps=20,\n",
        ")\n",
        "\n",
        "# Create the environment\n",
        "env = gym.make('RiverSwim-v0')"
      ]
    },
    {
      "cell_type": "code",
      "execution_count": null,
      "metadata": {
        "id": "M5PYbepWHySY",
        "colab": {
          "base_uri": "https://localhost:8080/"
        },
        "outputId": "45fd9bdb-a4e8-4458-8061-3feb66994c4e"
      },
      "outputs": [
        {
          "output_type": "stream",
          "name": "stdout",
          "text": [
            "Collecting optuna\n",
            "  Downloading optuna-4.0.0-py3-none-any.whl.metadata (16 kB)\n",
            "Collecting alembic>=1.5.0 (from optuna)\n",
            "  Downloading alembic-1.13.3-py3-none-any.whl.metadata (7.4 kB)\n",
            "Collecting colorlog (from optuna)\n",
            "  Downloading colorlog-6.8.2-py3-none-any.whl.metadata (10 kB)\n",
            "Requirement already satisfied: numpy in /usr/local/lib/python3.10/dist-packages (from optuna) (1.26.4)\n",
            "Requirement already satisfied: packaging>=20.0 in /usr/local/lib/python3.10/dist-packages (from optuna) (24.1)\n",
            "Requirement already satisfied: sqlalchemy>=1.3.0 in /usr/local/lib/python3.10/dist-packages (from optuna) (2.0.35)\n",
            "Requirement already satisfied: tqdm in /usr/local/lib/python3.10/dist-packages (from optuna) (4.66.5)\n",
            "Requirement already satisfied: PyYAML in /usr/local/lib/python3.10/dist-packages (from optuna) (6.0.2)\n",
            "Collecting Mako (from alembic>=1.5.0->optuna)\n",
            "  Downloading Mako-1.3.5-py3-none-any.whl.metadata (2.9 kB)\n",
            "Requirement already satisfied: typing-extensions>=4 in /usr/local/lib/python3.10/dist-packages (from alembic>=1.5.0->optuna) (4.12.2)\n",
            "Requirement already satisfied: greenlet!=0.4.17 in /usr/local/lib/python3.10/dist-packages (from sqlalchemy>=1.3.0->optuna) (3.1.0)\n",
            "Requirement already satisfied: MarkupSafe>=0.9.2 in /usr/local/lib/python3.10/dist-packages (from Mako->alembic>=1.5.0->optuna) (2.1.5)\n",
            "Downloading optuna-4.0.0-py3-none-any.whl (362 kB)\n",
            "\u001b[2K   \u001b[90m━━━━━━━━━━━━━━━━━━━━━━━━━━━━━━━━━━━━━━━━\u001b[0m \u001b[32m362.8/362.8 kB\u001b[0m \u001b[31m7.3 MB/s\u001b[0m eta \u001b[36m0:00:00\u001b[0m\n",
            "\u001b[?25hDownloading alembic-1.13.3-py3-none-any.whl (233 kB)\n",
            "\u001b[2K   \u001b[90m━━━━━━━━━━━━━━━━━━━━━━━━━━━━━━━━━━━━━━━━\u001b[0m \u001b[32m233.2/233.2 kB\u001b[0m \u001b[31m16.2 MB/s\u001b[0m eta \u001b[36m0:00:00\u001b[0m\n",
            "\u001b[?25hDownloading colorlog-6.8.2-py3-none-any.whl (11 kB)\n",
            "Downloading Mako-1.3.5-py3-none-any.whl (78 kB)\n",
            "\u001b[2K   \u001b[90m━━━━━━━━━━━━━━━━━━━━━━━━━━━━━━━━━━━━━━━━\u001b[0m \u001b[32m78.6/78.6 kB\u001b[0m \u001b[31m5.9 MB/s\u001b[0m eta \u001b[36m0:00:00\u001b[0m\n",
            "\u001b[?25hInstalling collected packages: Mako, colorlog, alembic, optuna\n",
            "Successfully installed Mako-1.3.5 alembic-1.13.3 colorlog-6.8.2 optuna-4.0.0\n"
          ]
        }
      ],
      "source": [
        "!pip install optuna"
      ]
    },
    {
      "cell_type": "code",
      "execution_count": null,
      "metadata": {
        "colab": {
          "base_uri": "https://localhost:8080/"
        },
        "id": "K93BD9L935WW",
        "outputId": "505a4d82-4492-4bb3-fb99-288428f4d2d1"
      },
      "outputs": [
        {
          "output_type": "stream",
          "name": "stdout",
          "text": [
            "Requirement already satisfied: optuna in /usr/local/lib/python3.10/dist-packages (4.0.0)\n",
            "Requirement already satisfied: plotly in /usr/local/lib/python3.10/dist-packages (5.24.1)\n",
            "Requirement already satisfied: kaleido in /usr/local/lib/python3.10/dist-packages (0.2.1)\n",
            "Requirement already satisfied: alembic>=1.5.0 in /usr/local/lib/python3.10/dist-packages (from optuna) (1.13.3)\n",
            "Requirement already satisfied: colorlog in /usr/local/lib/python3.10/dist-packages (from optuna) (6.8.2)\n",
            "Requirement already satisfied: numpy in /usr/local/lib/python3.10/dist-packages (from optuna) (1.26.4)\n",
            "Requirement already satisfied: packaging>=20.0 in /usr/local/lib/python3.10/dist-packages (from optuna) (24.1)\n",
            "Requirement already satisfied: sqlalchemy>=1.3.0 in /usr/local/lib/python3.10/dist-packages (from optuna) (2.0.35)\n",
            "Requirement already satisfied: tqdm in /usr/local/lib/python3.10/dist-packages (from optuna) (4.66.5)\n",
            "Requirement already satisfied: PyYAML in /usr/local/lib/python3.10/dist-packages (from optuna) (6.0.2)\n",
            "Requirement already satisfied: tenacity>=6.2.0 in /usr/local/lib/python3.10/dist-packages (from plotly) (9.0.0)\n",
            "Requirement already satisfied: Mako in /usr/local/lib/python3.10/dist-packages (from alembic>=1.5.0->optuna) (1.3.5)\n",
            "Requirement already satisfied: typing-extensions>=4 in /usr/local/lib/python3.10/dist-packages (from alembic>=1.5.0->optuna) (4.12.2)\n",
            "Requirement already satisfied: greenlet!=0.4.17 in /usr/local/lib/python3.10/dist-packages (from sqlalchemy>=1.3.0->optuna) (3.1.0)\n",
            "Requirement already satisfied: MarkupSafe>=0.9.2 in /usr/local/lib/python3.10/dist-packages (from Mako->alembic>=1.5.0->optuna) (2.1.5)\n"
          ]
        }
      ],
      "source": [
        "!pip install optuna plotly kaleido"
      ]
    },
    {
      "cell_type": "code",
      "source": [
        "!pip install stable_baselines3"
      ],
      "metadata": {
        "colab": {
          "base_uri": "https://localhost:8080/"
        },
        "id": "G2KTtN1Pvl1y",
        "outputId": "6145958f-85c1-4f88-e016-976808adf6ac"
      },
      "execution_count": null,
      "outputs": [
        {
          "output_type": "stream",
          "name": "stdout",
          "text": [
            "Requirement already satisfied: stable_baselines3 in /usr/local/lib/python3.10/dist-packages (2.3.2)\n",
            "Requirement already satisfied: gymnasium<0.30,>=0.28.1 in /usr/local/lib/python3.10/dist-packages (from stable_baselines3) (0.29.1)\n",
            "Requirement already satisfied: numpy>=1.20 in /usr/local/lib/python3.10/dist-packages (from stable_baselines3) (1.26.4)\n",
            "Requirement already satisfied: torch>=1.13 in /usr/local/lib/python3.10/dist-packages (from stable_baselines3) (2.4.1+cu121)\n",
            "Requirement already satisfied: cloudpickle in /usr/local/lib/python3.10/dist-packages (from stable_baselines3) (2.2.1)\n",
            "Requirement already satisfied: pandas in /usr/local/lib/python3.10/dist-packages (from stable_baselines3) (2.1.4)\n",
            "Requirement already satisfied: matplotlib in /usr/local/lib/python3.10/dist-packages (from stable_baselines3) (3.7.1)\n",
            "Requirement already satisfied: typing-extensions>=4.3.0 in /usr/local/lib/python3.10/dist-packages (from gymnasium<0.30,>=0.28.1->stable_baselines3) (4.12.2)\n",
            "Requirement already satisfied: farama-notifications>=0.0.1 in /usr/local/lib/python3.10/dist-packages (from gymnasium<0.30,>=0.28.1->stable_baselines3) (0.0.4)\n",
            "Requirement already satisfied: filelock in /usr/local/lib/python3.10/dist-packages (from torch>=1.13->stable_baselines3) (3.16.1)\n",
            "Requirement already satisfied: sympy in /usr/local/lib/python3.10/dist-packages (from torch>=1.13->stable_baselines3) (1.13.3)\n",
            "Requirement already satisfied: networkx in /usr/local/lib/python3.10/dist-packages (from torch>=1.13->stable_baselines3) (3.3)\n",
            "Requirement already satisfied: jinja2 in /usr/local/lib/python3.10/dist-packages (from torch>=1.13->stable_baselines3) (3.1.4)\n",
            "Requirement already satisfied: fsspec in /usr/local/lib/python3.10/dist-packages (from torch>=1.13->stable_baselines3) (2024.6.1)\n",
            "Requirement already satisfied: contourpy>=1.0.1 in /usr/local/lib/python3.10/dist-packages (from matplotlib->stable_baselines3) (1.3.0)\n",
            "Requirement already satisfied: cycler>=0.10 in /usr/local/lib/python3.10/dist-packages (from matplotlib->stable_baselines3) (0.12.1)\n",
            "Requirement already satisfied: fonttools>=4.22.0 in /usr/local/lib/python3.10/dist-packages (from matplotlib->stable_baselines3) (4.53.1)\n",
            "Requirement already satisfied: kiwisolver>=1.0.1 in /usr/local/lib/python3.10/dist-packages (from matplotlib->stable_baselines3) (1.4.7)\n",
            "Requirement already satisfied: packaging>=20.0 in /usr/local/lib/python3.10/dist-packages (from matplotlib->stable_baselines3) (24.1)\n",
            "Requirement already satisfied: pillow>=6.2.0 in /usr/local/lib/python3.10/dist-packages (from matplotlib->stable_baselines3) (10.4.0)\n",
            "Requirement already satisfied: pyparsing>=2.3.1 in /usr/local/lib/python3.10/dist-packages (from matplotlib->stable_baselines3) (3.1.4)\n",
            "Requirement already satisfied: python-dateutil>=2.7 in /usr/local/lib/python3.10/dist-packages (from matplotlib->stable_baselines3) (2.8.2)\n",
            "Requirement already satisfied: pytz>=2020.1 in /usr/local/lib/python3.10/dist-packages (from pandas->stable_baselines3) (2024.2)\n",
            "Requirement already satisfied: tzdata>=2022.1 in /usr/local/lib/python3.10/dist-packages (from pandas->stable_baselines3) (2024.1)\n",
            "Requirement already satisfied: six>=1.5 in /usr/local/lib/python3.10/dist-packages (from python-dateutil>=2.7->matplotlib->stable_baselines3) (1.16.0)\n",
            "Requirement already satisfied: MarkupSafe>=2.0 in /usr/local/lib/python3.10/dist-packages (from jinja2->torch>=1.13->stable_baselines3) (2.1.5)\n",
            "Requirement already satisfied: mpmath<1.4,>=1.1.0 in /usr/local/lib/python3.10/dist-packages (from sympy->torch>=1.13->stable_baselines3) (1.3.0)\n"
          ]
        }
      ]
    },
    {
      "cell_type": "code",
      "source": [
        "import optuna\n",
        "import numpy as np\n",
        "import gymnasium as gym\n",
        "from gymnasium import spaces\n",
        "from stable_baselines3 import PPO, A2C\n",
        "from stable_baselines3.common.env_util import make_vec_env\n",
        "from stable_baselines3.common.evaluation import evaluate_policy\n",
        "\n",
        "def optimize_a2c(trial):\n",
        "    # Define the hyperparameters to optimize\n",
        "    #n_steps = trial.suggest_int(\"n_steps\", 32, 2048)\n",
        "    n_steps = 1024\n",
        "    learning_rate = trial.suggest_loguniform(\"learning_rate\", 1e-5, 1e-2)\n",
        "\n",
        "    # Create the vectorized environment\n",
        "    env = make_vec_env('RiverSwim-v0', n_envs=1)\n",
        "\n",
        "    # Create and train the model\n",
        "    model = A2C(\n",
        "        \"MlpPolicy\",\n",
        "        env,\n",
        "        n_steps=n_steps,\n",
        "        learning_rate=learning_rate,\n",
        "        verbose=0\n",
        "    )\n",
        "\n",
        "    model.learn(total_timesteps=200000)\n",
        "\n",
        "    # Evaluate the model\n",
        "    mean_reward, _ = evaluate_policy(model, env, n_eval_episodes=10)\n",
        "\n",
        "    return mean_reward\n",
        "\n",
        "def main():\n",
        "    study = optuna.create_study(direction=\"maximize\")\n",
        "    study.optimize(optimize_a2c, n_trials=100)\n",
        "\n",
        "    print(\"Best trial:\")\n",
        "    trial = study.best_trial\n",
        "\n",
        "    print(\"Value: \", trial.value)\n",
        "    print(\"Params: \")\n",
        "    for key, value in trial.params.items():\n",
        "        print(\"    {}: {}\".format(key, value))\n",
        "\n",
        "    # Train a final model with the best hyperparameters\n",
        "    env = make_vec_env('RiverSwim-v0', n_envs=1)\n",
        "    best_model = A2C(\"MlpPolicy\", env, **trial.params, verbose=1)\n",
        "    best_model.learn(total_timesteps=200000)\n",
        "\n",
        "    # Save the best model\n",
        "    best_model.save(\"a2c_deepsea_best\")\n",
        "\n",
        "    # Final evaluation\n",
        "    final_env = gym.make('DeepSea-v0')\n",
        "    mean_reward, std_reward = evaluate_policy(best_model, final_env, n_eval_episodes=100)\n",
        "    print(f\"Final mean reward: {mean_reward:.2f} +/- {std_reward:.2f}\")\n",
        "\n",
        "if __name__ == \"__main__\":\n",
        "    main()"
      ],
      "metadata": {
        "colab": {
          "base_uri": "https://localhost:8080/"
        },
        "id": "WALz1gYUNthu",
        "outputId": "c496cbe2-f16f-45c0-ab10-923886911d60"
      },
      "execution_count": null,
      "outputs": [
        {
          "output_type": "stream",
          "name": "stderr",
          "text": [
            "[I 2024-10-05 22:09:31,403] A new study created in memory with name: no-name-e7dbfd18-fab5-4e69-a937-2aaa833c51a0\n",
            "<ipython-input-10-26ad73cf07ba>:13: FutureWarning: suggest_loguniform has been deprecated in v3.0.0. This feature will be removed in v6.0.0. See https://github.com/optuna/optuna/releases/tag/v3.0.0. Use suggest_float(..., log=True) instead.\n",
            "  learning_rate = trial.suggest_loguniform(\"learning_rate\", 1e-5, 1e-2)\n",
            "/usr/local/lib/python3.10/dist-packages/gymnasium/envs/registration.py:788: UserWarning: \u001b[33mWARN: The environment is being initialised with render_mode='rgb_array' that is not in the possible render_modes ([]).\u001b[0m\n",
            "  logger.warn(\n",
            "[I 2024-10-05 22:13:07,078] Trial 0 finished with value: 2.4 and parameters: {'learning_rate': 0.0032172072865183283}. Best is trial 0 with value: 2.4.\n",
            "<ipython-input-10-26ad73cf07ba>:13: FutureWarning: suggest_loguniform has been deprecated in v3.0.0. This feature will be removed in v6.0.0. See https://github.com/optuna/optuna/releases/tag/v3.0.0. Use suggest_float(..., log=True) instead.\n",
            "  learning_rate = trial.suggest_loguniform(\"learning_rate\", 1e-5, 1e-2)\n",
            "/usr/local/lib/python3.10/dist-packages/gymnasium/envs/registration.py:788: UserWarning: \u001b[33mWARN: The environment is being initialised with render_mode='rgb_array' that is not in the possible render_modes ([]).\u001b[0m\n",
            "  logger.warn(\n",
            "[I 2024-10-05 22:16:37,550] Trial 1 finished with value: 0.1 and parameters: {'learning_rate': 1.3614164615577724e-05}. Best is trial 0 with value: 2.4.\n",
            "[I 2024-10-05 22:20:06,691] Trial 2 finished with value: 0.1 and parameters: {'learning_rate': 9.856430524779494e-05}. Best is trial 0 with value: 2.4.\n",
            "[I 2024-10-05 22:23:37,244] Trial 3 finished with value: 0.1 and parameters: {'learning_rate': 1.0939795909201206e-05}. Best is trial 0 with value: 2.4.\n",
            "[I 2024-10-05 22:27:08,761] Trial 4 finished with value: 0.1 and parameters: {'learning_rate': 4.25030622459635e-05}. Best is trial 0 with value: 2.4.\n",
            "[I 2024-10-05 22:30:39,009] Trial 5 finished with value: 0.1 and parameters: {'learning_rate': 0.0020442824374521805}. Best is trial 0 with value: 2.4.\n",
            "[I 2024-10-05 22:34:09,205] Trial 6 finished with value: 0.9 and parameters: {'learning_rate': 0.0009636314729290136}. Best is trial 0 with value: 2.4.\n",
            "[I 2024-10-05 22:37:40,618] Trial 7 finished with value: 0.1 and parameters: {'learning_rate': 0.004101779505892993}. Best is trial 0 with value: 2.4.\n",
            "[I 2024-10-05 22:41:11,017] Trial 8 finished with value: 0.1 and parameters: {'learning_rate': 0.0003732346054889063}. Best is trial 0 with value: 2.4.\n",
            "[I 2024-10-05 22:44:42,521] Trial 9 finished with value: 0.1 and parameters: {'learning_rate': 0.00015557602189819348}. Best is trial 0 with value: 2.4.\n"
          ]
        }
      ]
    }
  ],
  "metadata": {
    "colab": {
      "provenance": []
    },
    "kernelspec": {
      "display_name": "Python 3",
      "name": "python3"
    },
    "language_info": {
      "name": "python"
    }
  },
  "nbformat": 4,
  "nbformat_minor": 0
}